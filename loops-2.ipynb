{
 "cells": [
  {
   "cell_type": "code",
   "execution_count": 14,
   "id": "c43160dd",
   "metadata": {},
   "outputs": [
    {
     "name": "stdout",
     "output_type": "stream",
     "text": [
      "10\n",
      "4\n",
      "26\n",
      "4\n",
      "24\n",
      "54\n"
     ]
    }
   ],
   "source": [
    "# Create a list that is having 10,23,4,26,4,75,24,54 values and with the help of while loop, fetch \n",
    "# the even numbers and print the numbers\n",
    "\n",
    "list1 = [10,23,4,26,4,75,24,54]\n",
    "i = 0\n",
    "while i < len(list1):\n",
    "    if list1[i] % 2 == 0:\n",
    "        print(list1[i])\n",
    "    i += 1"
   ]
  },
  {
   "cell_type": "code",
   "execution_count": null,
   "id": "fe24ad18",
   "metadata": {},
   "outputs": [],
   "source": []
  }
 ],
 "metadata": {
  "kernelspec": {
   "display_name": "Python 3",
   "language": "python",
   "name": "python3"
  },
  "language_info": {
   "codemirror_mode": {
    "name": "ipython",
    "version": 3
   },
   "file_extension": ".py",
   "mimetype": "text/x-python",
   "name": "python",
   "nbconvert_exporter": "python",
   "pygments_lexer": "ipython3",
   "version": "3.8.8"
  }
 },
 "nbformat": 4,
 "nbformat_minor": 5
}
