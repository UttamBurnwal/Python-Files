{
 "cells": [
  {
   "cell_type": "code",
   "execution_count": 1,
   "id": "06168480",
   "metadata": {},
   "outputs": [
    {
     "data": {
      "text/html": [
       "<div>\n",
       "<style scoped>\n",
       "    .dataframe tbody tr th:only-of-type {\n",
       "        vertical-align: middle;\n",
       "    }\n",
       "\n",
       "    .dataframe tbody tr th {\n",
       "        vertical-align: top;\n",
       "    }\n",
       "\n",
       "    .dataframe thead th {\n",
       "        text-align: right;\n",
       "    }\n",
       "</style>\n",
       "<table border=\"1\" class=\"dataframe\">\n",
       "  <thead>\n",
       "    <tr style=\"text-align: right;\">\n",
       "      <th></th>\n",
       "      <th>Unnamed: 0</th>\n",
       "      <th>Unnamed: 1</th>\n",
       "      <th>Unnamed: 2</th>\n",
       "      <th>Unnamed: 3</th>\n",
       "      <th>Unnamed: 4</th>\n",
       "      <th>Unnamed: 5</th>\n",
       "    </tr>\n",
       "  </thead>\n",
       "  <tbody>\n",
       "    <tr>\n",
       "      <th>0</th>\n",
       "      <td>Transactions from the Database</td>\n",
       "      <td>NaN</td>\n",
       "      <td>NaN</td>\n",
       "      <td>#Transactions in which\\n the item is bought</td>\n",
       "      <td>Support</td>\n",
       "      <td>NaN</td>\n",
       "    </tr>\n",
       "    <tr>\n",
       "      <th>1</th>\n",
       "      <td>1 : { Pencils, Markers, Highlighters, Papers}</td>\n",
       "      <td>NaN</td>\n",
       "      <td>Pencils</td>\n",
       "      <td>2</td>\n",
       "      <td>0.2</td>\n",
       "      <td>NaN</td>\n",
       "    </tr>\n",
       "    <tr>\n",
       "      <th>2</th>\n",
       "      <td>2 : {Markers, Erasers}</td>\n",
       "      <td>NaN</td>\n",
       "      <td>Markers</td>\n",
       "      <td>6</td>\n",
       "      <td>0.6</td>\n",
       "      <td>NaN</td>\n",
       "    </tr>\n",
       "    <tr>\n",
       "      <th>3</th>\n",
       "      <td>3 : {Stapler Pins, Papers, Erasers, Card Holde...</td>\n",
       "      <td>NaN</td>\n",
       "      <td>Highlighters</td>\n",
       "      <td>3</td>\n",
       "      <td>0.3</td>\n",
       "      <td>NaN</td>\n",
       "    </tr>\n",
       "    <tr>\n",
       "      <th>4</th>\n",
       "      <td>4 : {Papers, Erasers, Cad Holders}</td>\n",
       "      <td>NaN</td>\n",
       "      <td>Papers</td>\n",
       "      <td>4</td>\n",
       "      <td>0.4</td>\n",
       "      <td>NaN</td>\n",
       "    </tr>\n",
       "  </tbody>\n",
       "</table>\n",
       "</div>"
      ],
      "text/plain": [
       "                                          Unnamed: 0  Unnamed: 1  \\\n",
       "0                     Transactions from the Database         NaN   \n",
       "1      1 : { Pencils, Markers, Highlighters, Papers}         NaN   \n",
       "2                             2 : {Markers, Erasers}         NaN   \n",
       "3  3 : {Stapler Pins, Papers, Erasers, Card Holde...         NaN   \n",
       "4                 4 : {Papers, Erasers, Cad Holders}         NaN   \n",
       "\n",
       "     Unnamed: 2                                   Unnamed: 3 Unnamed: 4  \\\n",
       "0           NaN  #Transactions in which\\n the item is bought    Support   \n",
       "1       Pencils                                            2        0.2   \n",
       "2       Markers                                            6        0.6   \n",
       "3  Highlighters                                            3        0.3   \n",
       "4        Papers                                            4        0.4   \n",
       "\n",
       "  Unnamed: 5  \n",
       "0        NaN  \n",
       "1        NaN  \n",
       "2        NaN  \n",
       "3        NaN  \n",
       "4        NaN  "
      ]
     },
     "execution_count": 1,
     "metadata": {},
     "output_type": "execute_result"
    }
   ],
   "source": [
    "# Using pandas import the dataset as dataframe\n",
    "import pandas as pd\n",
    "import numpy as np\n",
    "retail = pd.read_csv('C:/Users/Admin/Downloads/Retail.csv',encoding= 'unicode_escape')\n",
    "retail.head()"
   ]
  },
  {
   "cell_type": "code",
   "execution_count": 2,
   "id": "47cdd0f4",
   "metadata": {},
   "outputs": [],
   "source": [
    " retail.rename(columns = {'Unnamed: 0': 'Transactions',\n",
    "                         'Unnamed: 1':'None1',\n",
    "                          'Unnamed: 2':'Commodity',\n",
    "                          'Unnamed: 3':'Transactions_on_items_bought',\n",
    "                          'Unnamed: 4':'Support', \n",
    "                         'Unnamed: 5' :'None2'}, inplace = True)"
   ]
  },
  {
   "cell_type": "code",
   "execution_count": 3,
   "id": "8a657e0c",
   "metadata": {},
   "outputs": [],
   "source": [
    "retail.drop(index=retail.index[0], axis=0, inplace=True)\n",
    "retail.drop(index=retail.index[9:18], axis=0, inplace=True)"
   ]
  },
  {
   "cell_type": "code",
   "execution_count": 4,
   "id": "782f2033",
   "metadata": {},
   "outputs": [],
   "source": [
    "retail.drop(retail.columns[[1,5]], axis=1, inplace=True)"
   ]
  },
  {
   "cell_type": "code",
   "execution_count": 5,
   "id": "d7863bd5",
   "metadata": {},
   "outputs": [
    {
     "data": {
      "text/html": [
       "<div>\n",
       "<style scoped>\n",
       "    .dataframe tbody tr th:only-of-type {\n",
       "        vertical-align: middle;\n",
       "    }\n",
       "\n",
       "    .dataframe tbody tr th {\n",
       "        vertical-align: top;\n",
       "    }\n",
       "\n",
       "    .dataframe thead th {\n",
       "        text-align: right;\n",
       "    }\n",
       "</style>\n",
       "<table border=\"1\" class=\"dataframe\">\n",
       "  <thead>\n",
       "    <tr style=\"text-align: right;\">\n",
       "      <th></th>\n",
       "      <th>Transactions</th>\n",
       "      <th>Commodity</th>\n",
       "      <th>Transactions_on_items_bought</th>\n",
       "      <th>Support</th>\n",
       "    </tr>\n",
       "  </thead>\n",
       "  <tbody>\n",
       "    <tr>\n",
       "      <th>1</th>\n",
       "      <td>1 : { Pencils, Markers, Highlighters, Papers}</td>\n",
       "      <td>Pencils</td>\n",
       "      <td>2</td>\n",
       "      <td>0.2</td>\n",
       "    </tr>\n",
       "    <tr>\n",
       "      <th>2</th>\n",
       "      <td>2 : {Markers, Erasers}</td>\n",
       "      <td>Markers</td>\n",
       "      <td>6</td>\n",
       "      <td>0.6</td>\n",
       "    </tr>\n",
       "    <tr>\n",
       "      <th>3</th>\n",
       "      <td>3 : {Stapler Pins, Papers, Erasers, Card Holde...</td>\n",
       "      <td>Highlighters</td>\n",
       "      <td>3</td>\n",
       "      <td>0.3</td>\n",
       "    </tr>\n",
       "    <tr>\n",
       "      <th>4</th>\n",
       "      <td>4 : {Papers, Erasers, Cad Holders}</td>\n",
       "      <td>Papers</td>\n",
       "      <td>4</td>\n",
       "      <td>0.4</td>\n",
       "    </tr>\n",
       "    <tr>\n",
       "      <th>5</th>\n",
       "      <td>5 : {Markers, Post-it, Erasers}</td>\n",
       "      <td>Erasers</td>\n",
       "      <td>7</td>\n",
       "      <td>0.7</td>\n",
       "    </tr>\n",
       "    <tr>\n",
       "      <th>6</th>\n",
       "      <td>6 : {Envelop}</td>\n",
       "      <td>Stapler Pins</td>\n",
       "      <td>3</td>\n",
       "      <td>0.3</td>\n",
       "    </tr>\n",
       "    <tr>\n",
       "      <th>7</th>\n",
       "      <td>7 : {Markers, Erasers}</td>\n",
       "      <td>Card Holders</td>\n",
       "      <td>2</td>\n",
       "      <td>0.2</td>\n",
       "    </tr>\n",
       "    <tr>\n",
       "      <th>8</th>\n",
       "      <td>8 : {Pencils, Markers, StaplerPins, Post-it, H...</td>\n",
       "      <td>Post-it</td>\n",
       "      <td>3</td>\n",
       "      <td>0.3</td>\n",
       "    </tr>\n",
       "    <tr>\n",
       "      <th>9</th>\n",
       "      <td>9 : {StaplerPins, Post-it, Markers, Erasers}</td>\n",
       "      <td>Envelop</td>\n",
       "      <td>2</td>\n",
       "      <td>0.2</td>\n",
       "    </tr>\n",
       "  </tbody>\n",
       "</table>\n",
       "</div>"
      ],
      "text/plain": [
       "                                        Transactions     Commodity  \\\n",
       "1      1 : { Pencils, Markers, Highlighters, Papers}       Pencils   \n",
       "2                             2 : {Markers, Erasers}       Markers   \n",
       "3  3 : {Stapler Pins, Papers, Erasers, Card Holde...  Highlighters   \n",
       "4                 4 : {Papers, Erasers, Cad Holders}        Papers   \n",
       "5                    5 : {Markers, Post-it, Erasers}       Erasers   \n",
       "6                                      6 : {Envelop}  Stapler Pins   \n",
       "7                             7 : {Markers, Erasers}  Card Holders   \n",
       "8  8 : {Pencils, Markers, StaplerPins, Post-it, H...       Post-it   \n",
       "9       9 : {StaplerPins, Post-it, Markers, Erasers}       Envelop   \n",
       "\n",
       "  Transactions_on_items_bought Support  \n",
       "1                            2     0.2  \n",
       "2                            6     0.6  \n",
       "3                            3     0.3  \n",
       "4                            4     0.4  \n",
       "5                            7     0.7  \n",
       "6                            3     0.3  \n",
       "7                            2     0.2  \n",
       "8                            3     0.3  \n",
       "9                            2     0.2  "
      ]
     },
     "execution_count": 5,
     "metadata": {},
     "output_type": "execute_result"
    }
   ],
   "source": [
    "retail"
   ]
  },
  {
   "cell_type": "code",
   "execution_count": 6,
   "id": "e71bb559",
   "metadata": {},
   "outputs": [
    {
     "data": {
      "text/plain": [
       "(9, 4)"
      ]
     },
     "execution_count": 6,
     "metadata": {},
     "output_type": "execute_result"
    }
   ],
   "source": [
    "retail.shape"
   ]
  },
  {
   "cell_type": "code",
   "execution_count": 11,
   "id": "01165946",
   "metadata": {},
   "outputs": [],
   "source": [
    "records = []\n",
    "for i in range(9):\n",
    "    records.append([str(retail.values[i,j]) for j in range(4)])"
   ]
  },
  {
   "cell_type": "code",
   "execution_count": 12,
   "id": "4c3912fa",
   "metadata": {},
   "outputs": [
    {
     "data": {
      "text/plain": [
       "['2 : {Markers, Erasers}', 'Markers', '6', '0.6']"
      ]
     },
     "execution_count": 12,
     "metadata": {},
     "output_type": "execute_result"
    }
   ],
   "source": [
    "records[1]"
   ]
  },
  {
   "cell_type": "code",
   "execution_count": 17,
   "id": "8bd4b30e",
   "metadata": {},
   "outputs": [
    {
     "name": "stdout",
     "output_type": "stream",
     "text": [
      "Requirement already satisfied: mlxtend in c:\\users\\admin\\anaconda3\\envs\\tensorflow\\lib\\site-packages (0.19.0)\n",
      "Requirement already satisfied: setuptools in c:\\users\\admin\\anaconda3\\envs\\tensorflow\\lib\\site-packages (from mlxtend) (58.0.4)\n",
      "Requirement already satisfied: scipy>=1.2.1 in c:\\users\\admin\\anaconda3\\envs\\tensorflow\\lib\\site-packages (from mlxtend) (1.7.1)\n",
      "Requirement already satisfied: joblib>=0.13.2 in c:\\users\\admin\\anaconda3\\envs\\tensorflow\\lib\\site-packages (from mlxtend) (1.1.0)\n",
      "Requirement already satisfied: numpy>=1.16.2 in c:\\users\\admin\\anaconda3\\envs\\tensorflow\\lib\\site-packages (from mlxtend) (1.19.5)\n",
      "Requirement already satisfied: scikit-learn>=0.20.3 in c:\\users\\admin\\anaconda3\\envs\\tensorflow\\lib\\site-packages (from mlxtend) (1.0.2)\n",
      "Requirement already satisfied: pandas>=0.24.2 in c:\\users\\admin\\anaconda3\\envs\\tensorflow\\lib\\site-packages (from mlxtend) (1.3.5)\n",
      "Requirement already satisfied: matplotlib>=3.0.0 in c:\\users\\admin\\anaconda3\\envs\\tensorflow\\lib\\site-packages (from mlxtend) (3.5.1)\n",
      "Requirement already satisfied: fonttools>=4.22.0 in c:\\users\\admin\\anaconda3\\envs\\tensorflow\\lib\\site-packages (from matplotlib>=3.0.0->mlxtend) (4.28.5)\n",
      "Requirement already satisfied: pyparsing>=2.2.1 in c:\\users\\admin\\anaconda3\\envs\\tensorflow\\lib\\site-packages (from matplotlib>=3.0.0->mlxtend) (3.0.4)\n",
      "Requirement already satisfied: pillow>=6.2.0 in c:\\users\\admin\\anaconda3\\envs\\tensorflow\\lib\\site-packages (from matplotlib>=3.0.0->mlxtend) (9.0.0)\n",
      "Requirement already satisfied: python-dateutil>=2.7 in c:\\users\\admin\\anaconda3\\envs\\tensorflow\\lib\\site-packages (from matplotlib>=3.0.0->mlxtend) (2.8.2)\n",
      "Requirement already satisfied: cycler>=0.10 in c:\\users\\admin\\anaconda3\\envs\\tensorflow\\lib\\site-packages (from matplotlib>=3.0.0->mlxtend) (0.11.0)\n",
      "Requirement already satisfied: kiwisolver>=1.0.1 in c:\\users\\admin\\anaconda3\\envs\\tensorflow\\lib\\site-packages (from matplotlib>=3.0.0->mlxtend) (1.3.2)\n",
      "Requirement already satisfied: packaging>=20.0 in c:\\users\\admin\\anaconda3\\envs\\tensorflow\\lib\\site-packages (from matplotlib>=3.0.0->mlxtend) (21.3)\n",
      "Requirement already satisfied: pytz>=2017.3 in c:\\users\\admin\\anaconda3\\envs\\tensorflow\\lib\\site-packages (from pandas>=0.24.2->mlxtend) (2021.3)\n",
      "Requirement already satisfied: six>=1.5 in c:\\users\\admin\\anaconda3\\envs\\tensorflow\\lib\\site-packages (from python-dateutil>=2.7->matplotlib>=3.0.0->mlxtend) (1.16.0)\n",
      "Requirement already satisfied: threadpoolctl>=2.0.0 in c:\\users\\admin\\anaconda3\\envs\\tensorflow\\lib\\site-packages (from scikit-learn>=0.20.3->mlxtend) (3.0.0)\n"
     ]
    }
   ],
   "source": [
    "# Install the mixtend library to use apriory and association rule mining\n",
    "\n",
    "!pip install mlxtend"
   ]
  },
  {
   "cell_type": "code",
   "execution_count": 19,
   "id": "9e33445d",
   "metadata": {},
   "outputs": [
    {
     "name": "stdout",
     "output_type": "stream",
     "text": [
      "Collecting apyori\n",
      "  Downloading apyori-1.1.2.tar.gz (8.6 kB)\n",
      "Building wheels for collected packages: apyori\n",
      "  Building wheel for apyori (setup.py): started\n",
      "  Building wheel for apyori (setup.py): finished with status 'done'\n",
      "  Created wheel for apyori: filename=apyori-1.1.2-py3-none-any.whl size=5974 sha256=7bfa032a289e51574cfa59c17888bfde3d43732c36a0025c3d8149ded77c5339\n",
      "  Stored in directory: c:\\users\\admin\\appdata\\local\\pip\\cache\\wheels\\1b\\02\\6c\\a45230be8603bd95c0a51cd2b289aefdd860c1a100eab73661\n",
      "Successfully built apyori\n",
      "Installing collected packages: apyori\n",
      "Successfully installed apyori-1.1.2\n"
     ]
    }
   ],
   "source": [
    "!pip install apyori"
   ]
  },
  {
   "cell_type": "code",
   "execution_count": 21,
   "id": "6f07539e",
   "metadata": {},
   "outputs": [],
   "source": [
    "# Using the apriori algorithm generate a list of item frequently brought together.\n",
    "from apyori import apriori\n",
    "association_rules = apriori(records, min_support = 0.0045, min_confidence=0.2, min_lift =3, min_length =2)\n",
    "association_rules = list(association_rules)"
   ]
  },
  {
   "cell_type": "code",
   "execution_count": 22,
   "id": "ded27a24",
   "metadata": {},
   "outputs": [
    {
     "name": "stdout",
     "output_type": "stream",
     "text": [
      "95\n"
     ]
    }
   ],
   "source": [
    "# Generate the association rules for the given items from apriori algorithm\n",
    "print(len(association_rules))"
   ]
  },
  {
   "cell_type": "code",
   "execution_count": 23,
   "id": "38a5f1f8",
   "metadata": {},
   "outputs": [
    {
     "name": "stdout",
     "output_type": "stream",
     "text": [
      "RelationRecord(items=frozenset({'0.2', '1 : { Pencils, Markers, Highlighters, Papers}'}), support=0.1111111111111111, ordered_statistics=[OrderedStatistic(items_base=frozenset({'0.2'}), items_add=frozenset({'1 : { Pencils, Markers, Highlighters, Papers}'}), confidence=0.3333333333333333, lift=3.0), OrderedStatistic(items_base=frozenset({'1 : { Pencils, Markers, Highlighters, Papers}'}), items_add=frozenset({'0.2'}), confidence=1.0, lift=3.0)])\n"
     ]
    }
   ],
   "source": [
    "print(association_rules[0])"
   ]
  },
  {
   "cell_type": "code",
   "execution_count": null,
   "id": "fcd6759e",
   "metadata": {},
   "outputs": [],
   "source": []
  }
 ],
 "metadata": {
  "kernelspec": {
   "display_name": "Python 3 (ipykernel)",
   "language": "python",
   "name": "python3"
  },
  "language_info": {
   "codemirror_mode": {
    "name": "ipython",
    "version": 3
   },
   "file_extension": ".py",
   "mimetype": "text/x-python",
   "name": "python",
   "nbconvert_exporter": "python",
   "pygments_lexer": "ipython3",
   "version": "3.8.12"
  }
 },
 "nbformat": 4,
 "nbformat_minor": 5
}
