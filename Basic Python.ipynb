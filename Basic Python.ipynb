{
 "cells": [
  {
   "cell_type": "markdown",
   "id": "c5d1f44b",
   "metadata": {},
   "source": [
    "### *Part A*"
   ]
  },
  {
   "cell_type": "code",
   "execution_count": 1,
   "id": "c2a7cbec",
   "metadata": {},
   "outputs": [
    {
     "data": {
      "text/plain": [
       "32"
      ]
     },
     "execution_count": 1,
     "metadata": {},
     "output_type": "execute_result"
    }
   ],
   "source": [
    "# 1. What is two to the power of five\n",
    "2**5"
   ]
  },
  {
   "cell_type": "code",
   "execution_count": 2,
   "id": "4a722ae2",
   "metadata": {},
   "outputs": [
    {
     "data": {
      "text/plain": [
       "array([23, 27, 25, 45, 61])"
      ]
     },
     "execution_count": 2,
     "metadata": {},
     "output_type": "execute_result"
    }
   ],
   "source": [
    "# 2. Create a vector with the following data points 23,27,.25,45,61\n",
    "import numpy as np\n",
    "v = np.array([23,27,25,45,61])\n",
    "v"
   ]
  },
  {
   "cell_type": "code",
   "execution_count": 3,
   "id": "82330428",
   "metadata": {},
   "outputs": [
    {
     "data": {
      "text/plain": [
       "{'Monday': 23, 'Tuesday': 27, 'Wednesday': 25, 'Thursday': 45, 'Friday': 61}"
      ]
     },
     "execution_count": 3,
     "metadata": {},
     "output_type": "execute_result"
    }
   ],
   "source": [
    "# 3. Assign names to the above data points in the vector relating to the day of the week with Mon, Tues, Wed. etc_\n",
    "day_vector = {'Monday': v[0], 'Tuesday': v[1], 'Wednesday': v[2], 'Thursday': v[3], 'Friday': v[4]}\n",
    "day_vector"
   ]
  },
  {
   "cell_type": "code",
   "execution_count": 4,
   "id": "c0759c8b",
   "metadata": {},
   "outputs": [
    {
     "data": {
      "text/plain": [
       "36.2"
      ]
     },
     "execution_count": 4,
     "metadata": {},
     "output_type": "execute_result"
    }
   ],
   "source": [
    "# 4. What is the average/ mean of the values in Vector formed in Q2\n",
    "v.mean()"
   ]
  },
  {
   "cell_type": "code",
   "execution_count": 5,
   "id": "e789282d",
   "metadata": {},
   "outputs": [
    {
     "data": {
      "text/plain": [
       "'Friday'"
      ]
     },
     "execution_count": 5,
     "metadata": {},
     "output_type": "execute_result"
    }
   ],
   "source": [
    "# 5. Find the day when the value is highest\n",
    "\n",
    "max_value = max(day_vector, key = day_vector.get)\n",
    "max_value"
   ]
  },
  {
   "cell_type": "markdown",
   "id": "21e066c3",
   "metadata": {},
   "source": [
    "### *Part B*"
   ]
  },
  {
   "cell_type": "code",
   "execution_count": 6,
   "id": "428c534c",
   "metadata": {},
   "outputs": [
    {
     "data": {
      "text/plain": [
       "'Hello Karn'"
      ]
     },
     "execution_count": 6,
     "metadata": {},
     "output_type": "execute_result"
    }
   ],
   "source": [
    "# 1. Create a function that takes in a name as a string argument and return a string of the form 'Hello name'\n",
    "\n",
    "def Hello_name(name):\n",
    "    return f'Hello {name}'\n",
    "Hello_name('Karn')    "
   ]
  },
  {
   "cell_type": "code",
   "execution_count": 29,
   "id": "9772f2b5",
   "metadata": {},
   "outputs": [],
   "source": [
    "# 2. Create a function that accepts two arguments, an integer, and a vector of integers. It returns the \n",
    "# count of the number of occurances of the integer in the input vector.\n",
    "\n",
    "def occurance(n, arr):\n",
    "    count =0\n",
    "    for i in range(len(arr)):\n",
    "        if n == arr[i]:\n",
    "            count += 1\n",
    "    print(count)\n"
   ]
  },
  {
   "cell_type": "code",
   "execution_count": 30,
   "id": "f2f37523",
   "metadata": {},
   "outputs": [
    {
     "name": "stdout",
     "output_type": "stream",
     "text": [
      "5\n"
     ]
    }
   ],
   "source": [
    "arr = np.array([2,3,2,3,2,2,2])\n",
    "n = 2\n",
    "occurance(2, arr)"
   ]
  },
  {
   "cell_type": "code",
   "execution_count": 93,
   "id": "3b733dd2",
   "metadata": {},
   "outputs": [],
   "source": [
    "# 3. Create a function that accepts 3 integer values and returns their sum. However if an integer value is evenly divisible by 3,\n",
    "# then it does not count towards the sum. Return zero if all numbers are evenly divisible by 3.\n",
    "def sum_div(a,b,c):\n",
    "    if type(a) == int and type(b) == int and type(c) == int:\n",
    "        print('First Number:',a)\n",
    "        print('Second Number:',b)\n",
    "        print('Third Number:',c)\n",
    "        if a%3 != 0 and b%3 != 0 and c%3 != 0:\n",
    "            print(f'The sum of the numbers {a}, {b} and {c} is {a+b+c}')\n",
    "        elif a%3 == 0 and b%3 != 0 and c%3 != 0:\n",
    "            print('The first number is ignored as it is divisible by 3')\n",
    "            print(f'The sum of the numbers {b} and {c} is {b+c}')\n",
    "        elif a%3 != 0 and b%3 == 0 and c%3 != 0:\n",
    "            print('The second number is ignored as it is divisible by 3')\n",
    "            print(f'The sum of the numbers {a} and {c} is {a+c}')\n",
    "        elif a%3 != 0 and b%3 != 0 and c%3 == 0:\n",
    "            print('The third number is ignored as it is divisible by 3')\n",
    "            print(f'The sum of the numbers {a} and {b} is {a+b}')\n",
    "        elif a%3 == 0 and b%3 == 0 and c%3 != 0:\n",
    "            print('The first and second number is ignored as it is divisible by 3')\n",
    "            print(f'The sum is {c}')\n",
    "        elif a%3 != 0 and b%3 == 0 and c%3 == 0:\n",
    "            print('The second and second number is ignored as it is divisible by 3')\n",
    "            print(f'The sum is {c}')\n",
    "        elif a%3 == 0 and b%3 != 0 and c%3 == 0:\n",
    "            print('The first and third number is ignored as it is divisible by 3')\n",
    "            print(f'The sum is {c}')\n",
    "        else:\n",
    "            return 0\n",
    "    else:\n",
    "        print('Error!! Enter only integer values')"
   ]
  },
  {
   "cell_type": "code",
   "execution_count": 101,
   "id": "8e47bcdf",
   "metadata": {},
   "outputs": [
    {
     "name": "stdout",
     "output_type": "stream",
     "text": [
      "First Number: 8\n",
      "Second Number: 2\n",
      "Third Number: 3\n",
      "The third number is ignored as it is divisible by 3\n",
      "The sum of the numbers 8 and 2 is 10\n"
     ]
    }
   ],
   "source": [
    "sum_div(8, 2, 3)"
   ]
  },
  {
   "cell_type": "code",
   "execution_count": 107,
   "id": "c2fc45bb",
   "metadata": {},
   "outputs": [],
   "source": [
    "# Create a function that will return TRUE if an input integer is a prime. Otherwise return fals.\n",
    "\n",
    "def is_prime_number(a):\n",
    "    if a >= 2:\n",
    "        for i in range(2,a):\n",
    "            if not ( a % i ):\n",
    "                return False\n",
    "    else:\n",
    "        return False\n",
    "    return True"
   ]
  },
  {
   "cell_type": "code",
   "execution_count": 108,
   "id": "85d24acc",
   "metadata": {},
   "outputs": [
    {
     "data": {
      "text/plain": [
       "False"
      ]
     },
     "execution_count": 108,
     "metadata": {},
     "output_type": "execute_result"
    }
   ],
   "source": [
    "is_prime_number(9)"
   ]
  },
  {
   "cell_type": "markdown",
   "id": "d06ca28c",
   "metadata": {},
   "source": [
    "### *Part C*"
   ]
  },
  {
   "cell_type": "code",
   "execution_count": 116,
   "id": "50296f35",
   "metadata": {},
   "outputs": [
    {
     "data": {
      "text/plain": [
       "(array([[1, 2, 3],\n",
       "        [4, 5, 6]]),\n",
       " (2, 3))"
      ]
     },
     "execution_count": 116,
     "metadata": {},
     "output_type": "execute_result"
    }
   ],
   "source": [
    "# 1. Create two vectors A and B, where A is [1,2,3] and B is [4,5,6]. With these vectors, use c_bind or r_bind function to \n",
    "# create 2*3 matrix from vectors\n",
    "\n",
    "# There are no c_bind or r_bind functions in python. In python we use vstack or hstack to create matrix from vectors.\n",
    "# To create a 2*3 matrix, vstack has been used. \n",
    "\n",
    "A = np.array([1,2,3])\n",
    "B = np.array([4,5,6])\n",
    "c = np.vstack((A,B))\n",
    "c, c.shape"
   ]
  },
  {
   "cell_type": "code",
   "execution_count": 131,
   "id": "7021d532",
   "metadata": {},
   "outputs": [
    {
     "data": {
      "text/plain": [
       "array([[ 1,  2,  3,  4,  5],\n",
       "       [ 6,  7,  8,  9, 10],\n",
       "       [11, 12, 13, 14, 15],\n",
       "       [16, 17, 18, 19, 20],\n",
       "       [21, 22, 23, 24, 25]])"
      ]
     },
     "execution_count": 131,
     "metadata": {},
     "output_type": "execute_result"
    }
   ],
   "source": [
    "# 2. Create A 5 By 5 Matrix Consisting Of The Numbers 1-25 And Assign It To The Variable Mat2. \n",
    "# The Top Row Should Be The Numbers 1-5.\n",
    "\n",
    "mat2 = np.arange(1,26).reshape(5, 5)\n",
    "mat2"
   ]
  },
  {
   "cell_type": "code",
   "execution_count": 136,
   "id": "8c0d68d7",
   "metadata": {},
   "outputs": [
    {
     "data": {
      "text/plain": [
       "(array([7, 8]), array([12, 13]))"
      ]
     },
     "execution_count": 136,
     "metadata": {},
     "output_type": "execute_result"
    }
   ],
   "source": [
    "# 3. Grab subsection of [7,8] and [12,13] from mat2\n",
    "\n",
    "mat2[1][1:3], mat2[2][1:3]"
   ]
  },
  {
   "cell_type": "code",
   "execution_count": null,
   "id": "b96ced73",
   "metadata": {},
   "outputs": [],
   "source": []
  }
 ],
 "metadata": {
  "kernelspec": {
   "display_name": "Python 3 (ipykernel)",
   "language": "python",
   "name": "python3"
  },
  "language_info": {
   "codemirror_mode": {
    "name": "ipython",
    "version": 3
   },
   "file_extension": ".py",
   "mimetype": "text/x-python",
   "name": "python",
   "nbconvert_exporter": "python",
   "pygments_lexer": "ipython3",
   "version": "3.8.12"
  }
 },
 "nbformat": 4,
 "nbformat_minor": 5
}
