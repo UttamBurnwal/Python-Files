{
 "cells": [
  {
   "cell_type": "code",
   "execution_count": null,
   "id": "4c87c9d3",
   "metadata": {},
   "outputs": [],
   "source": [
    "# 1. Load the dataset using pandas. \n"
   ]
  },
  {
   "cell_type": "code",
   "execution_count": null,
   "id": "01f71f35",
   "metadata": {},
   "outputs": [],
   "source": [
    "# 2. Separate Dataset into training and testing sets \n"
   ]
  },
  {
   "cell_type": "code",
   "execution_count": null,
   "id": "c5cdf6f3",
   "metadata": {},
   "outputs": [],
   "source": [
    "# 3. Train a model to make predictions based on number of years as experience. \n"
   ]
  },
  {
   "cell_type": "code",
   "execution_count": null,
   "id": "99b668e1",
   "metadata": {},
   "outputs": [],
   "source": [
    "# 4. Plot and visualize the training data, testing data and the regression line \n"
   ]
  },
  {
   "cell_type": "code",
   "execution_count": null,
   "id": "23533848",
   "metadata": {},
   "outputs": [],
   "source": [
    "# # 5. Check the model accuracy using the R2 score of the model\n"
   ]
  }
 ],
 "metadata": {
  "kernelspec": {
   "display_name": "Python 3 (ipykernel)",
   "language": "python",
   "name": "python3"
  },
  "language_info": {
   "codemirror_mode": {
    "name": "ipython",
    "version": 3
   },
   "file_extension": ".py",
   "mimetype": "text/x-python",
   "name": "python",
   "nbconvert_exporter": "python",
   "pygments_lexer": "ipython3",
   "version": "3.8.12"
  }
 },
 "nbformat": 4,
 "nbformat_minor": 5
}
