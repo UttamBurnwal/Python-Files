{
 "cells": [
  {
   "cell_type": "code",
   "execution_count": null,
   "id": "aa7ef68a",
   "metadata": {},
   "outputs": [],
   "source": [
    "# 1. Implementing User-Based Recommender System using SVD (Singular Value Decomposition) method: \n",
    "# a. Load the ‘ratings’ and ‘movies’ datasets which is a part of ‘MovieLense’\n",
    "# b. Find the unique number of users and movies in the ‘ratings’ dataset\n",
    "# c. Create a rating matrix for the ‘ratings’ dataset and store it in ‘Ratings’\n",
    "# d. Load the ‘ratings’ dataset as SVD’s Dataset object and compute 3-fold cross-validation \n",
    "# using the SVD object \n",
    "# e. Find all the movies rated as 5 stars by user id ‘5’ and store it in ‘ratings_1’ data frame \n",
    "# f. Create a shallow copy of the ‘movies’ dataset and store the result in ‘user_5’\n",
    "# g. Train a recommender system using the SVD object and predict the ratings for user id ‘5’ \n",
    "# h. Print the top10 movie recommendations for the user id ‘5"
   ]
  }
 ],
 "metadata": {
  "kernelspec": {
   "display_name": "Python 3 (ipykernel)",
   "language": "python",
   "name": "python3"
  },
  "language_info": {
   "codemirror_mode": {
    "name": "ipython",
    "version": 3
   },
   "file_extension": ".py",
   "mimetype": "text/x-python",
   "name": "python",
   "nbconvert_exporter": "python",
   "pygments_lexer": "ipython3",
   "version": "3.8.12"
  }
 },
 "nbformat": 4,
 "nbformat_minor": 5
}
